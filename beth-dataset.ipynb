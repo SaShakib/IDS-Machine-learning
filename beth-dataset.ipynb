{
 "cells": [
  {
   "cell_type": "code",
   "execution_count": 1,
   "id": "7b804b2b",
   "metadata": {
    "_cell_guid": "b1076dfc-b9ad-4769-8c92-a6c4dae69d19",
    "_uuid": "8f2839f25d086af736a60e9eeb907d3b93b6e0e5",
    "execution": {
     "iopub.execute_input": "2023-12-26T15:45:36.862624Z",
     "iopub.status.busy": "2023-12-26T15:45:36.861587Z",
     "iopub.status.idle": "2023-12-26T15:45:39.293902Z",
     "shell.execute_reply": "2023-12-26T15:45:39.292537Z"
    },
    "papermill": {
     "duration": 2.446599,
     "end_time": "2023-12-26T15:45:39.297082",
     "exception": false,
     "start_time": "2023-12-26T15:45:36.850483",
     "status": "completed"
    },
    "tags": []
   },
   "outputs": [
    {
     "name": "stdout",
     "output_type": "stream",
     "text": [
      "/kaggle/input/beth-dataset/labelled_training_data.csv\n",
      "/kaggle/input/beth-dataset/labelled_2021may-ip-10-100-1-4-dns.csv\n",
      "/kaggle/input/beth-dataset/labelled_2021may-ip-10-100-1-186-dns.csv\n",
      "/kaggle/input/beth-dataset/labelled_validation_data.csv\n",
      "/kaggle/input/beth-dataset/labelled_2021may-ip-10-100-1-26-dns.csv\n",
      "/kaggle/input/beth-dataset/labelled_2021may-ip-10-100-1-186.csv\n",
      "/kaggle/input/beth-dataset/labelled_2021may-ip-10-100-1-4.csv\n",
      "/kaggle/input/beth-dataset/labelled_2021may-ip-10-100-1-26.csv\n",
      "/kaggle/input/beth-dataset/labelled_2021may-ip-10-100-1-105-dns.csv\n",
      "/kaggle/input/beth-dataset/labelled_2021may-ip-10-100-1-95-dns.csv\n",
      "/kaggle/input/beth-dataset/labelled_testing_data.csv\n",
      "/kaggle/input/beth-dataset/labelled_2021may-ip-10-100-1-105.csv\n",
      "/kaggle/input/beth-dataset/labelled_2021may-ip-10-100-1-95.csv\n",
      "/kaggle/input/beth-dataset/labelled_2021may-ubuntu-dns.csv\n",
      "/kaggle/input/beth-dataset/labelled_2021may-ubuntu.csv\n"
     ]
    }
   ],
   "source": [
    "# This Python 3 environment comes with many helpful analytics libraries installed\n",
    "# It is defined by the kaggle/python Docker image: https://github.com/kaggle/docker-python\n",
    "# For example, here's several helpful packages to load\n",
    "\n",
    "import numpy as np # linear algebra\n",
    "import pandas as pd # data processing, CSV file I/O (e.g. pd.read_csv)\n",
    "import seaborn as sns\n",
    "import matplotlib.pyplot as plt\n",
    "from sklearn.metrics import classification_report\n",
    "from sklearn.svm import SVC\n",
    "from sklearn.preprocessing import OrdinalEncoder\n",
    "from sklearn.model_selection import train_test_split\n",
    "from sklearn.preprocessing import LabelEncoder\n",
    "from sklearn.metrics import confusion_matrix\n",
    "from sklearn.metrics import recall_score\n",
    "from sklearn.metrics import precision_score\n",
    "from sklearn import tree\n",
    "\n",
    "# Input data files are available in the read-only \"../input/\" directory\n",
    "# For example, running this (by clicking run or pressing Shift+Enter) will list all files under the input directory\n",
    "\n",
    "import os\n",
    "for dirname, _, filenames in os.walk('/kaggle/input'):\n",
    "    for filename in filenames:\n",
    "        print(os.path.join(dirname, filename))\n",
    "\n",
    "# You can write up to 20GB to the current directory (/kaggle/working/) that gets preserved as output when you create a version using \"Save & Run All\" \n",
    "# You can also write temporary files to /kaggle/temp/, but they won't be saved outside of the current session"
   ]
  },
  {
   "cell_type": "code",
   "execution_count": 2,
   "id": "11d8feda",
   "metadata": {
    "execution": {
     "iopub.execute_input": "2023-12-26T15:45:39.318033Z",
     "iopub.status.busy": "2023-12-26T15:45:39.317476Z",
     "iopub.status.idle": "2023-12-26T15:45:45.109961Z",
     "shell.execute_reply": "2023-12-26T15:45:45.108854Z"
    },
    "papermill": {
     "duration": 5.806279,
     "end_time": "2023-12-26T15:45:45.112854",
     "exception": false,
     "start_time": "2023-12-26T15:45:39.306575",
     "status": "completed"
    },
    "tags": []
   },
   "outputs": [],
   "source": [
    "train_df = pd.read_csv('/kaggle/input/beth-dataset/labelled_training_data.csv')\n",
    "test_df = pd.read_csv('/kaggle/input/beth-dataset/labelled_testing_data.csv')"
   ]
  },
  {
   "cell_type": "code",
   "execution_count": 3,
   "id": "12a1e685",
   "metadata": {
    "execution": {
     "iopub.execute_input": "2023-12-26T15:45:45.133020Z",
     "iopub.status.busy": "2023-12-26T15:45:45.132595Z",
     "iopub.status.idle": "2023-12-26T15:45:45.149185Z",
     "shell.execute_reply": "2023-12-26T15:45:45.148032Z"
    },
    "papermill": {
     "duration": 0.029976,
     "end_time": "2023-12-26T15:45:45.152041",
     "exception": false,
     "start_time": "2023-12-26T15:45:45.122065",
     "status": "completed"
    },
    "tags": []
   },
   "outputs": [
    {
     "data": {
      "text/plain": [
       "timestamp          float64\n",
       "processId            int64\n",
       "threadId             int64\n",
       "parentProcessId      int64\n",
       "userId               int64\n",
       "mountNamespace       int64\n",
       "processName         object\n",
       "hostName            object\n",
       "eventId              int64\n",
       "eventName           object\n",
       "stackAddresses      object\n",
       "argsNum              int64\n",
       "returnValue          int64\n",
       "args                object\n",
       "sus                  int64\n",
       "evil                 int64\n",
       "dtype: object"
      ]
     },
     "execution_count": 3,
     "metadata": {},
     "output_type": "execute_result"
    }
   ],
   "source": [
    "train_df.dtypes\n"
   ]
  },
  {
   "cell_type": "code",
   "execution_count": 4,
   "id": "18fa2760",
   "metadata": {
    "execution": {
     "iopub.execute_input": "2023-12-26T15:45:45.173095Z",
     "iopub.status.busy": "2023-12-26T15:45:45.172278Z",
     "iopub.status.idle": "2023-12-26T15:45:45.201514Z",
     "shell.execute_reply": "2023-12-26T15:45:45.200373Z"
    },
    "papermill": {
     "duration": 0.042674,
     "end_time": "2023-12-26T15:45:45.204188",
     "exception": false,
     "start_time": "2023-12-26T15:45:45.161514",
     "status": "completed"
    },
    "tags": []
   },
   "outputs": [
    {
     "data": {
      "text/html": [
       "<div>\n",
       "<style scoped>\n",
       "    .dataframe tbody tr th:only-of-type {\n",
       "        vertical-align: middle;\n",
       "    }\n",
       "\n",
       "    .dataframe tbody tr th {\n",
       "        vertical-align: top;\n",
       "    }\n",
       "\n",
       "    .dataframe thead th {\n",
       "        text-align: right;\n",
       "    }\n",
       "</style>\n",
       "<table border=\"1\" class=\"dataframe\">\n",
       "  <thead>\n",
       "    <tr style=\"text-align: right;\">\n",
       "      <th></th>\n",
       "      <th>timestamp</th>\n",
       "      <th>processId</th>\n",
       "      <th>threadId</th>\n",
       "      <th>parentProcessId</th>\n",
       "      <th>userId</th>\n",
       "      <th>mountNamespace</th>\n",
       "      <th>processName</th>\n",
       "      <th>hostName</th>\n",
       "      <th>eventId</th>\n",
       "      <th>eventName</th>\n",
       "      <th>stackAddresses</th>\n",
       "      <th>argsNum</th>\n",
       "      <th>returnValue</th>\n",
       "      <th>args</th>\n",
       "      <th>sus</th>\n",
       "      <th>evil</th>\n",
       "    </tr>\n",
       "  </thead>\n",
       "  <tbody>\n",
       "    <tr>\n",
       "      <th>0</th>\n",
       "      <td>1809.495787</td>\n",
       "      <td>381</td>\n",
       "      <td>7337</td>\n",
       "      <td>1</td>\n",
       "      <td>100</td>\n",
       "      <td>4026532231</td>\n",
       "      <td>close</td>\n",
       "      <td>ip-10-100-1-120</td>\n",
       "      <td>157</td>\n",
       "      <td>prctl</td>\n",
       "      <td>[140662171848350, 11649800180280676]</td>\n",
       "      <td>5</td>\n",
       "      <td>0</td>\n",
       "      <td>[{'name': 'option', 'type': 'int', 'value': 'P...</td>\n",
       "      <td>1</td>\n",
       "      <td>0</td>\n",
       "    </tr>\n",
       "    <tr>\n",
       "      <th>1</th>\n",
       "      <td>1809.495832</td>\n",
       "      <td>381</td>\n",
       "      <td>7337</td>\n",
       "      <td>1</td>\n",
       "      <td>100</td>\n",
       "      <td>4026532231</td>\n",
       "      <td>close</td>\n",
       "      <td>ip-10-100-1-120</td>\n",
       "      <td>3</td>\n",
       "      <td>close</td>\n",
       "      <td>[140662171777451]</td>\n",
       "      <td>1</td>\n",
       "      <td>0</td>\n",
       "      <td>[{'name': 'fd', 'type': 'int', 'value': 19}]</td>\n",
       "      <td>1</td>\n",
       "      <td>0</td>\n",
       "    </tr>\n",
       "    <tr>\n",
       "      <th>2</th>\n",
       "      <td>1809.495921</td>\n",
       "      <td>381</td>\n",
       "      <td>7337</td>\n",
       "      <td>1</td>\n",
       "      <td>100</td>\n",
       "      <td>4026532231</td>\n",
       "      <td>close</td>\n",
       "      <td>ip-10-100-1-120</td>\n",
       "      <td>1010</td>\n",
       "      <td>sched_process_exit</td>\n",
       "      <td>[]</td>\n",
       "      <td>0</td>\n",
       "      <td>0</td>\n",
       "      <td>[]</td>\n",
       "      <td>1</td>\n",
       "      <td>0</td>\n",
       "    </tr>\n",
       "    <tr>\n",
       "      <th>3</th>\n",
       "      <td>1894.139651</td>\n",
       "      <td>7347</td>\n",
       "      <td>7347</td>\n",
       "      <td>7341</td>\n",
       "      <td>0</td>\n",
       "      <td>4026531840</td>\n",
       "      <td>sh</td>\n",
       "      <td>ip-10-100-1-120</td>\n",
       "      <td>21</td>\n",
       "      <td>access</td>\n",
       "      <td>[]</td>\n",
       "      <td>2</td>\n",
       "      <td>-2</td>\n",
       "      <td>[{'name': 'pathname', 'type': 'const char*', '...</td>\n",
       "      <td>1</td>\n",
       "      <td>0</td>\n",
       "    </tr>\n",
       "    <tr>\n",
       "      <th>4</th>\n",
       "      <td>1894.142127</td>\n",
       "      <td>7347</td>\n",
       "      <td>7347</td>\n",
       "      <td>7341</td>\n",
       "      <td>0</td>\n",
       "      <td>4026531840</td>\n",
       "      <td>sh</td>\n",
       "      <td>ip-10-100-1-120</td>\n",
       "      <td>1005</td>\n",
       "      <td>security_file_open</td>\n",
       "      <td>[139778263990104, 139778263906698]</td>\n",
       "      <td>4</td>\n",
       "      <td>0</td>\n",
       "      <td>[{'name': 'pathname', 'type': 'const char*', '...</td>\n",
       "      <td>1</td>\n",
       "      <td>0</td>\n",
       "    </tr>\n",
       "  </tbody>\n",
       "</table>\n",
       "</div>"
      ],
      "text/plain": [
       "     timestamp  processId  threadId  parentProcessId  userId  mountNamespace  \\\n",
       "0  1809.495787        381      7337                1     100      4026532231   \n",
       "1  1809.495832        381      7337                1     100      4026532231   \n",
       "2  1809.495921        381      7337                1     100      4026532231   \n",
       "3  1894.139651       7347      7347             7341       0      4026531840   \n",
       "4  1894.142127       7347      7347             7341       0      4026531840   \n",
       "\n",
       "  processName         hostName  eventId           eventName  \\\n",
       "0       close  ip-10-100-1-120      157               prctl   \n",
       "1       close  ip-10-100-1-120        3               close   \n",
       "2       close  ip-10-100-1-120     1010  sched_process_exit   \n",
       "3          sh  ip-10-100-1-120       21              access   \n",
       "4          sh  ip-10-100-1-120     1005  security_file_open   \n",
       "\n",
       "                         stackAddresses  argsNum  returnValue  \\\n",
       "0  [140662171848350, 11649800180280676]        5            0   \n",
       "1                     [140662171777451]        1            0   \n",
       "2                                    []        0            0   \n",
       "3                                    []        2           -2   \n",
       "4    [139778263990104, 139778263906698]        4            0   \n",
       "\n",
       "                                                args  sus  evil  \n",
       "0  [{'name': 'option', 'type': 'int', 'value': 'P...    1     0  \n",
       "1       [{'name': 'fd', 'type': 'int', 'value': 19}]    1     0  \n",
       "2                                                 []    1     0  \n",
       "3  [{'name': 'pathname', 'type': 'const char*', '...    1     0  \n",
       "4  [{'name': 'pathname', 'type': 'const char*', '...    1     0  "
      ]
     },
     "execution_count": 4,
     "metadata": {},
     "output_type": "execute_result"
    }
   ],
   "source": [
    "train_df.head()\n"
   ]
  },
  {
   "cell_type": "code",
   "execution_count": 5,
   "id": "4eb093e5",
   "metadata": {
    "execution": {
     "iopub.execute_input": "2023-12-26T15:45:45.225872Z",
     "iopub.status.busy": "2023-12-26T15:45:45.225449Z",
     "iopub.status.idle": "2023-12-26T15:45:46.918178Z",
     "shell.execute_reply": "2023-12-26T15:45:46.916847Z"
    },
    "papermill": {
     "duration": 1.706882,
     "end_time": "2023-12-26T15:45:46.921027",
     "exception": false,
     "start_time": "2023-12-26T15:45:45.214145",
     "status": "completed"
    },
    "tags": []
   },
   "outputs": [
    {
     "data": {
      "text/html": [
       "<div>\n",
       "<style scoped>\n",
       "    .dataframe tbody tr th:only-of-type {\n",
       "        vertical-align: middle;\n",
       "    }\n",
       "\n",
       "    .dataframe tbody tr th {\n",
       "        vertical-align: top;\n",
       "    }\n",
       "\n",
       "    .dataframe thead th {\n",
       "        text-align: right;\n",
       "    }\n",
       "</style>\n",
       "<table border=\"1\" class=\"dataframe\">\n",
       "  <thead>\n",
       "    <tr style=\"text-align: right;\">\n",
       "      <th></th>\n",
       "      <th>timestamp</th>\n",
       "      <th>processId</th>\n",
       "      <th>threadId</th>\n",
       "      <th>parentProcessId</th>\n",
       "      <th>userId</th>\n",
       "      <th>mountNamespace</th>\n",
       "      <th>processName</th>\n",
       "      <th>hostName</th>\n",
       "      <th>eventId</th>\n",
       "      <th>eventName</th>\n",
       "      <th>stackAddresses</th>\n",
       "      <th>argsNum</th>\n",
       "      <th>returnValue</th>\n",
       "      <th>args</th>\n",
       "      <th>sus</th>\n",
       "      <th>evil</th>\n",
       "    </tr>\n",
       "  </thead>\n",
       "  <tbody>\n",
       "    <tr>\n",
       "      <th>count</th>\n",
       "      <td>763144.000000</td>\n",
       "      <td>763144.000000</td>\n",
       "      <td>763144.000000</td>\n",
       "      <td>763144.000000</td>\n",
       "      <td>763144.000000</td>\n",
       "      <td>7.631440e+05</td>\n",
       "      <td>763144</td>\n",
       "      <td>763144</td>\n",
       "      <td>763144.000000</td>\n",
       "      <td>763144</td>\n",
       "      <td>763144</td>\n",
       "      <td>763144.000000</td>\n",
       "      <td>763144.000000</td>\n",
       "      <td>763144</td>\n",
       "      <td>763144.000000</td>\n",
       "      <td>763144.0</td>\n",
       "    </tr>\n",
       "    <tr>\n",
       "      <th>unique</th>\n",
       "      <td>NaN</td>\n",
       "      <td>NaN</td>\n",
       "      <td>NaN</td>\n",
       "      <td>NaN</td>\n",
       "      <td>NaN</td>\n",
       "      <td>NaN</td>\n",
       "      <td>36</td>\n",
       "      <td>8</td>\n",
       "      <td>NaN</td>\n",
       "      <td>32</td>\n",
       "      <td>97050</td>\n",
       "      <td>NaN</td>\n",
       "      <td>NaN</td>\n",
       "      <td>214720</td>\n",
       "      <td>NaN</td>\n",
       "      <td>NaN</td>\n",
       "    </tr>\n",
       "    <tr>\n",
       "      <th>top</th>\n",
       "      <td>NaN</td>\n",
       "      <td>NaN</td>\n",
       "      <td>NaN</td>\n",
       "      <td>NaN</td>\n",
       "      <td>NaN</td>\n",
       "      <td>NaN</td>\n",
       "      <td>ps</td>\n",
       "      <td>ubuntu</td>\n",
       "      <td>NaN</td>\n",
       "      <td>close</td>\n",
       "      <td>[]</td>\n",
       "      <td>NaN</td>\n",
       "      <td>NaN</td>\n",
       "      <td>[{'name': 'fd', 'type': 'int', 'value': 9}]</td>\n",
       "      <td>NaN</td>\n",
       "      <td>NaN</td>\n",
       "    </tr>\n",
       "    <tr>\n",
       "      <th>freq</th>\n",
       "      <td>NaN</td>\n",
       "      <td>NaN</td>\n",
       "      <td>NaN</td>\n",
       "      <td>NaN</td>\n",
       "      <td>NaN</td>\n",
       "      <td>NaN</td>\n",
       "      <td>406313</td>\n",
       "      <td>190500</td>\n",
       "      <td>NaN</td>\n",
       "      <td>218080</td>\n",
       "      <td>521115</td>\n",
       "      <td>NaN</td>\n",
       "      <td>NaN</td>\n",
       "      <td>107321</td>\n",
       "      <td>NaN</td>\n",
       "      <td>NaN</td>\n",
       "    </tr>\n",
       "    <tr>\n",
       "      <th>mean</th>\n",
       "      <td>1844.582673</td>\n",
       "      <td>6814.763308</td>\n",
       "      <td>6820.265241</td>\n",
       "      <td>1882.216609</td>\n",
       "      <td>2.279034</td>\n",
       "      <td>4.026532e+09</td>\n",
       "      <td>NaN</td>\n",
       "      <td>NaN</td>\n",
       "      <td>288.158953</td>\n",
       "      <td>NaN</td>\n",
       "      <td>NaN</td>\n",
       "      <td>2.672082</td>\n",
       "      <td>17.520924</td>\n",
       "      <td>NaN</td>\n",
       "      <td>0.001663</td>\n",
       "      <td>0.0</td>\n",
       "    </tr>\n",
       "    <tr>\n",
       "      <th>std</th>\n",
       "      <td>1136.638249</td>\n",
       "      <td>1948.871187</td>\n",
       "      <td>1937.068333</td>\n",
       "      <td>2215.563094</td>\n",
       "      <td>37.416576</td>\n",
       "      <td>1.649030e+02</td>\n",
       "      <td>NaN</td>\n",
       "      <td>NaN</td>\n",
       "      <td>385.117778</td>\n",
       "      <td>NaN</td>\n",
       "      <td>NaN</td>\n",
       "      <td>1.340906</td>\n",
       "      <td>318.596662</td>\n",
       "      <td>NaN</td>\n",
       "      <td>0.040744</td>\n",
       "      <td>0.0</td>\n",
       "    </tr>\n",
       "    <tr>\n",
       "      <th>min</th>\n",
       "      <td>132.560721</td>\n",
       "      <td>1.000000</td>\n",
       "      <td>1.000000</td>\n",
       "      <td>0.000000</td>\n",
       "      <td>0.000000</td>\n",
       "      <td>4.026532e+09</td>\n",
       "      <td>NaN</td>\n",
       "      <td>NaN</td>\n",
       "      <td>3.000000</td>\n",
       "      <td>NaN</td>\n",
       "      <td>NaN</td>\n",
       "      <td>0.000000</td>\n",
       "      <td>-115.000000</td>\n",
       "      <td>NaN</td>\n",
       "      <td>0.000000</td>\n",
       "      <td>0.0</td>\n",
       "    </tr>\n",
       "    <tr>\n",
       "      <th>25%</th>\n",
       "      <td>903.250802</td>\n",
       "      <td>7313.000000</td>\n",
       "      <td>7313.000000</td>\n",
       "      <td>187.000000</td>\n",
       "      <td>0.000000</td>\n",
       "      <td>4.026532e+09</td>\n",
       "      <td>NaN</td>\n",
       "      <td>NaN</td>\n",
       "      <td>3.000000</td>\n",
       "      <td>NaN</td>\n",
       "      <td>NaN</td>\n",
       "      <td>1.000000</td>\n",
       "      <td>0.000000</td>\n",
       "      <td>NaN</td>\n",
       "      <td>0.000000</td>\n",
       "      <td>0.0</td>\n",
       "    </tr>\n",
       "    <tr>\n",
       "      <th>50%</th>\n",
       "      <td>1829.203642</td>\n",
       "      <td>7365.000000</td>\n",
       "      <td>7365.000000</td>\n",
       "      <td>1385.000000</td>\n",
       "      <td>0.000000</td>\n",
       "      <td>4.026532e+09</td>\n",
       "      <td>NaN</td>\n",
       "      <td>NaN</td>\n",
       "      <td>62.000000</td>\n",
       "      <td>NaN</td>\n",
       "      <td>NaN</td>\n",
       "      <td>3.000000</td>\n",
       "      <td>0.000000</td>\n",
       "      <td>NaN</td>\n",
       "      <td>0.000000</td>\n",
       "      <td>0.0</td>\n",
       "    </tr>\n",
       "    <tr>\n",
       "      <th>75%</th>\n",
       "      <td>2761.380825</td>\n",
       "      <td>7415.000000</td>\n",
       "      <td>7415.000000</td>\n",
       "      <td>1648.000000</td>\n",
       "      <td>0.000000</td>\n",
       "      <td>4.026532e+09</td>\n",
       "      <td>NaN</td>\n",
       "      <td>NaN</td>\n",
       "      <td>257.000000</td>\n",
       "      <td>NaN</td>\n",
       "      <td>NaN</td>\n",
       "      <td>4.000000</td>\n",
       "      <td>4.000000</td>\n",
       "      <td>NaN</td>\n",
       "      <td>0.000000</td>\n",
       "      <td>0.0</td>\n",
       "    </tr>\n",
       "    <tr>\n",
       "      <th>max</th>\n",
       "      <td>3954.587643</td>\n",
       "      <td>8619.000000</td>\n",
       "      <td>8619.000000</td>\n",
       "      <td>7672.000000</td>\n",
       "      <td>1000.000000</td>\n",
       "      <td>4.026532e+09</td>\n",
       "      <td>NaN</td>\n",
       "      <td>NaN</td>\n",
       "      <td>1010.000000</td>\n",
       "      <td>NaN</td>\n",
       "      <td>NaN</td>\n",
       "      <td>5.000000</td>\n",
       "      <td>8289.000000</td>\n",
       "      <td>NaN</td>\n",
       "      <td>1.000000</td>\n",
       "      <td>0.0</td>\n",
       "    </tr>\n",
       "  </tbody>\n",
       "</table>\n",
       "</div>"
      ],
      "text/plain": [
       "            timestamp      processId       threadId  parentProcessId  \\\n",
       "count   763144.000000  763144.000000  763144.000000    763144.000000   \n",
       "unique            NaN            NaN            NaN              NaN   \n",
       "top               NaN            NaN            NaN              NaN   \n",
       "freq              NaN            NaN            NaN              NaN   \n",
       "mean      1844.582673    6814.763308    6820.265241      1882.216609   \n",
       "std       1136.638249    1948.871187    1937.068333      2215.563094   \n",
       "min        132.560721       1.000000       1.000000         0.000000   \n",
       "25%        903.250802    7313.000000    7313.000000       187.000000   \n",
       "50%       1829.203642    7365.000000    7365.000000      1385.000000   \n",
       "75%       2761.380825    7415.000000    7415.000000      1648.000000   \n",
       "max       3954.587643    8619.000000    8619.000000      7672.000000   \n",
       "\n",
       "               userId  mountNamespace processName hostName        eventId  \\\n",
       "count   763144.000000    7.631440e+05      763144   763144  763144.000000   \n",
       "unique            NaN             NaN          36        8            NaN   \n",
       "top               NaN             NaN          ps   ubuntu            NaN   \n",
       "freq              NaN             NaN      406313   190500            NaN   \n",
       "mean         2.279034    4.026532e+09         NaN      NaN     288.158953   \n",
       "std         37.416576    1.649030e+02         NaN      NaN     385.117778   \n",
       "min          0.000000    4.026532e+09         NaN      NaN       3.000000   \n",
       "25%          0.000000    4.026532e+09         NaN      NaN       3.000000   \n",
       "50%          0.000000    4.026532e+09         NaN      NaN      62.000000   \n",
       "75%          0.000000    4.026532e+09         NaN      NaN     257.000000   \n",
       "max       1000.000000    4.026532e+09         NaN      NaN    1010.000000   \n",
       "\n",
       "       eventName stackAddresses        argsNum    returnValue  \\\n",
       "count     763144         763144  763144.000000  763144.000000   \n",
       "unique        32          97050            NaN            NaN   \n",
       "top        close             []            NaN            NaN   \n",
       "freq      218080         521115            NaN            NaN   \n",
       "mean         NaN            NaN       2.672082      17.520924   \n",
       "std          NaN            NaN       1.340906     318.596662   \n",
       "min          NaN            NaN       0.000000    -115.000000   \n",
       "25%          NaN            NaN       1.000000       0.000000   \n",
       "50%          NaN            NaN       3.000000       0.000000   \n",
       "75%          NaN            NaN       4.000000       4.000000   \n",
       "max          NaN            NaN       5.000000    8289.000000   \n",
       "\n",
       "                                               args            sus      evil  \n",
       "count                                        763144  763144.000000  763144.0  \n",
       "unique                                       214720            NaN       NaN  \n",
       "top     [{'name': 'fd', 'type': 'int', 'value': 9}]            NaN       NaN  \n",
       "freq                                         107321            NaN       NaN  \n",
       "mean                                            NaN       0.001663       0.0  \n",
       "std                                             NaN       0.040744       0.0  \n",
       "min                                             NaN       0.000000       0.0  \n",
       "25%                                             NaN       0.000000       0.0  \n",
       "50%                                             NaN       0.000000       0.0  \n",
       "75%                                             NaN       0.000000       0.0  \n",
       "max                                             NaN       1.000000       0.0  "
      ]
     },
     "execution_count": 5,
     "metadata": {},
     "output_type": "execute_result"
    }
   ],
   "source": [
    "train_df.describe(include=['object', 'float', 'int'])\n"
   ]
  },
  {
   "cell_type": "code",
   "execution_count": 6,
   "id": "398f43fd",
   "metadata": {
    "execution": {
     "iopub.execute_input": "2023-12-26T15:45:46.943642Z",
     "iopub.status.busy": "2023-12-26T15:45:46.943191Z",
     "iopub.status.idle": "2023-12-26T15:45:47.784863Z",
     "shell.execute_reply": "2023-12-26T15:45:47.783388Z"
    },
    "papermill": {
     "duration": 0.856273,
     "end_time": "2023-12-26T15:45:47.787688",
     "exception": false,
     "start_time": "2023-12-26T15:45:46.931415",
     "status": "completed"
    },
    "tags": []
   },
   "outputs": [
    {
     "data": {
      "text/plain": [
       "<Axes: >"
      ]
     },
     "execution_count": 6,
     "metadata": {},
     "output_type": "execute_result"
    },
    {
     "data": {
      "image/png": "[encoded data removed]",
      "text/plain": [
       "<Figure size 640x480 with 2 Axes>"
      ]
     },
     "metadata": {},
     "output_type": "display_data"
    }
   ],
   "source": [
    "sns.heatmap(train_df.corr(numeric_only= True))"
   ]
  },
  {
   "cell_type": "code",
   "execution_count": 7,
   "id": "8eaedb81",
   "metadata": {
    "execution": {
     "iopub.execute_input": "2023-12-26T15:45:47.814032Z",
     "iopub.status.busy": "2023-12-26T15:45:47.813642Z",
     "iopub.status.idle": "2023-12-26T15:45:48.385466Z",
     "shell.execute_reply": "2023-12-26T15:45:48.384206Z"
    },
    "papermill": {
     "duration": 0.589071,
     "end_time": "2023-12-26T15:45:48.388108",
     "exception": false,
     "start_time": "2023-12-26T15:45:47.799037",
     "status": "completed"
    },
    "tags": []
   },
   "outputs": [
    {
     "data": {
      "text/plain": [
       "<Axes: >"
      ]
     },
     "execution_count": 7,
     "metadata": {},
     "output_type": "execute_result"
    },
    {
     "data": {
      "image/png": "[encoded data removed]",
      "text/plain": [
       "<Figure size 640x480 with 2 Axes>"
      ]
     },
     "metadata": {},
     "output_type": "display_data"
    }
   ],
   "source": [
    "sns.heatmap(test_df.corr(numeric_only = True))"
   ]
  },
  {
   "cell_type": "code",
   "execution_count": 8,
   "id": "858967e8",
   "metadata": {
    "execution": {
     "iopub.execute_input": "2023-12-26T15:45:48.414901Z",
     "iopub.status.busy": "2023-12-26T15:45:48.414490Z",
     "iopub.status.idle": "2023-12-26T15:45:48.436886Z",
     "shell.execute_reply": "2023-12-26T15:45:48.435420Z"
    },
    "papermill": {
     "duration": 0.039585,
     "end_time": "2023-12-26T15:45:48.439790",
     "exception": false,
     "start_time": "2023-12-26T15:45:48.400205",
     "status": "completed"
    },
    "tags": []
   },
   "outputs": [
    {
     "data": {
      "text/html": [
       "<div>\n",
       "<style scoped>\n",
       "    .dataframe tbody tr th:only-of-type {\n",
       "        vertical-align: middle;\n",
       "    }\n",
       "\n",
       "    .dataframe tbody tr th {\n",
       "        vertical-align: top;\n",
       "    }\n",
       "\n",
       "    .dataframe thead th {\n",
       "        text-align: right;\n",
       "    }\n",
       "</style>\n",
       "<table border=\"1\" class=\"dataframe\">\n",
       "  <thead>\n",
       "    <tr style=\"text-align: right;\">\n",
       "      <th></th>\n",
       "      <th>eventId</th>\n",
       "      <th>eventName</th>\n",
       "    </tr>\n",
       "  </thead>\n",
       "  <tbody>\n",
       "    <tr>\n",
       "      <th>0</th>\n",
       "      <td>157</td>\n",
       "      <td>prctl</td>\n",
       "    </tr>\n",
       "    <tr>\n",
       "      <th>1</th>\n",
       "      <td>3</td>\n",
       "      <td>close</td>\n",
       "    </tr>\n",
       "    <tr>\n",
       "      <th>2</th>\n",
       "      <td>1010</td>\n",
       "      <td>sched_process_exit</td>\n",
       "    </tr>\n",
       "    <tr>\n",
       "      <th>3</th>\n",
       "      <td>21</td>\n",
       "      <td>access</td>\n",
       "    </tr>\n",
       "    <tr>\n",
       "      <th>4</th>\n",
       "      <td>1005</td>\n",
       "      <td>security_file_open</td>\n",
       "    </tr>\n",
       "    <tr>\n",
       "      <th>5</th>\n",
       "      <td>257</td>\n",
       "      <td>openat</td>\n",
       "    </tr>\n",
       "    <tr>\n",
       "      <th>6</th>\n",
       "      <td>5</td>\n",
       "      <td>fstat</td>\n",
       "    </tr>\n",
       "    <tr>\n",
       "      <th>7</th>\n",
       "      <td>3</td>\n",
       "      <td>close</td>\n",
       "    </tr>\n",
       "    <tr>\n",
       "      <th>8</th>\n",
       "      <td>1005</td>\n",
       "      <td>security_file_open</td>\n",
       "    </tr>\n",
       "    <tr>\n",
       "      <th>9</th>\n",
       "      <td>257</td>\n",
       "      <td>openat</td>\n",
       "    </tr>\n",
       "  </tbody>\n",
       "</table>\n",
       "</div>"
      ],
      "text/plain": [
       "   eventId           eventName\n",
       "0      157               prctl\n",
       "1        3               close\n",
       "2     1010  sched_process_exit\n",
       "3       21              access\n",
       "4     1005  security_file_open\n",
       "5      257              openat\n",
       "6        5               fstat\n",
       "7        3               close\n",
       "8     1005  security_file_open\n",
       "9      257              openat"
      ]
     },
     "execution_count": 8,
     "metadata": {},
     "output_type": "execute_result"
    }
   ],
   "source": [
    "train_df.loc[:, ['eventId', 'eventName']].head(10)"
   ]
  },
  {
   "cell_type": "code",
   "execution_count": 9,
   "id": "539bcc9b",
   "metadata": {
    "execution": {
     "iopub.execute_input": "2023-12-26T15:45:48.466632Z",
     "iopub.status.busy": "2023-12-26T15:45:48.466187Z",
     "iopub.status.idle": "2023-12-26T15:45:48.504442Z",
     "shell.execute_reply": "2023-12-26T15:45:48.503269Z"
    },
    "papermill": {
     "duration": 0.054733,
     "end_time": "2023-12-26T15:45:48.506937",
     "exception": false,
     "start_time": "2023-12-26T15:45:48.452204",
     "status": "completed"
    },
    "tags": []
   },
   "outputs": [
    {
     "data": {
      "text/html": [
       "<div>\n",
       "<style scoped>\n",
       "    .dataframe tbody tr th:only-of-type {\n",
       "        vertical-align: middle;\n",
       "    }\n",
       "\n",
       "    .dataframe tbody tr th {\n",
       "        vertical-align: top;\n",
       "    }\n",
       "\n",
       "    .dataframe thead th {\n",
       "        text-align: right;\n",
       "    }\n",
       "</style>\n",
       "<table border=\"1\" class=\"dataframe\">\n",
       "  <thead>\n",
       "    <tr style=\"text-align: right;\">\n",
       "      <th></th>\n",
       "      <th>processName</th>\n",
       "      <th>hostName</th>\n",
       "      <th>args</th>\n",
       "    </tr>\n",
       "  </thead>\n",
       "  <tbody>\n",
       "    <tr>\n",
       "      <th>0</th>\n",
       "      <td>close</td>\n",
       "      <td>ip-10-100-1-120</td>\n",
       "      <td>[{'name': 'option', 'type': 'int', 'value': 'P...</td>\n",
       "    </tr>\n",
       "    <tr>\n",
       "      <th>1</th>\n",
       "      <td>close</td>\n",
       "      <td>ip-10-100-1-120</td>\n",
       "      <td>[{'name': 'fd', 'type': 'int', 'value': 19}]</td>\n",
       "    </tr>\n",
       "    <tr>\n",
       "      <th>2</th>\n",
       "      <td>close</td>\n",
       "      <td>ip-10-100-1-120</td>\n",
       "      <td>[]</td>\n",
       "    </tr>\n",
       "    <tr>\n",
       "      <th>3</th>\n",
       "      <td>sh</td>\n",
       "      <td>ip-10-100-1-120</td>\n",
       "      <td>[{'name': 'pathname', 'type': 'const char*', '...</td>\n",
       "    </tr>\n",
       "    <tr>\n",
       "      <th>4</th>\n",
       "      <td>sh</td>\n",
       "      <td>ip-10-100-1-120</td>\n",
       "      <td>[{'name': 'pathname', 'type': 'const char*', '...</td>\n",
       "    </tr>\n",
       "    <tr>\n",
       "      <th>5</th>\n",
       "      <td>sh</td>\n",
       "      <td>ip-10-100-1-120</td>\n",
       "      <td>[{'name': 'dirfd', 'type': 'int', 'value': -10...</td>\n",
       "    </tr>\n",
       "    <tr>\n",
       "      <th>6</th>\n",
       "      <td>sh</td>\n",
       "      <td>ip-10-100-1-120</td>\n",
       "      <td>[{'name': 'fd', 'type': 'int', 'value': 3}, {'...</td>\n",
       "    </tr>\n",
       "    <tr>\n",
       "      <th>7</th>\n",
       "      <td>sh</td>\n",
       "      <td>ip-10-100-1-120</td>\n",
       "      <td>[{'name': 'fd', 'type': 'int', 'value': 3}]</td>\n",
       "    </tr>\n",
       "    <tr>\n",
       "      <th>8</th>\n",
       "      <td>sh</td>\n",
       "      <td>ip-10-100-1-120</td>\n",
       "      <td>[{'name': 'pathname', 'type': 'const char*', '...</td>\n",
       "    </tr>\n",
       "    <tr>\n",
       "      <th>9</th>\n",
       "      <td>sh</td>\n",
       "      <td>ip-10-100-1-120</td>\n",
       "      <td>[{'name': 'dirfd', 'type': 'int', 'value': -10...</td>\n",
       "    </tr>\n",
       "  </tbody>\n",
       "</table>\n",
       "</div>"
      ],
      "text/plain": [
       "  processName         hostName  \\\n",
       "0       close  ip-10-100-1-120   \n",
       "1       close  ip-10-100-1-120   \n",
       "2       close  ip-10-100-1-120   \n",
       "3          sh  ip-10-100-1-120   \n",
       "4          sh  ip-10-100-1-120   \n",
       "5          sh  ip-10-100-1-120   \n",
       "6          sh  ip-10-100-1-120   \n",
       "7          sh  ip-10-100-1-120   \n",
       "8          sh  ip-10-100-1-120   \n",
       "9          sh  ip-10-100-1-120   \n",
       "\n",
       "                                                args  \n",
       "0  [{'name': 'option', 'type': 'int', 'value': 'P...  \n",
       "1       [{'name': 'fd', 'type': 'int', 'value': 19}]  \n",
       "2                                                 []  \n",
       "3  [{'name': 'pathname', 'type': 'const char*', '...  \n",
       "4  [{'name': 'pathname', 'type': 'const char*', '...  \n",
       "5  [{'name': 'dirfd', 'type': 'int', 'value': -10...  \n",
       "6  [{'name': 'fd', 'type': 'int', 'value': 3}, {'...  \n",
       "7        [{'name': 'fd', 'type': 'int', 'value': 3}]  \n",
       "8  [{'name': 'pathname', 'type': 'const char*', '...  \n",
       "9  [{'name': 'dirfd', 'type': 'int', 'value': -10...  "
      ]
     },
     "execution_count": 9,
     "metadata": {},
     "output_type": "execute_result"
    }
   ],
   "source": [
    "train_df.loc[:, ['processName', 'hostName', 'args']].head(10)"
   ]
  },
  {
   "cell_type": "code",
   "execution_count": 10,
   "id": "9113b15f",
   "metadata": {
    "execution": {
     "iopub.execute_input": "2023-12-26T15:45:48.534399Z",
     "iopub.status.busy": "2023-12-26T15:45:48.533897Z",
     "iopub.status.idle": "2023-12-26T15:45:48.552821Z",
     "shell.execute_reply": "2023-12-26T15:45:48.551615Z"
    },
    "papermill": {
     "duration": 0.035636,
     "end_time": "2023-12-26T15:45:48.555267",
     "exception": false,
     "start_time": "2023-12-26T15:45:48.519631",
     "status": "completed"
    },
    "tags": []
   },
   "outputs": [
    {
     "data": {
      "text/plain": [
       "sus\n",
       "0    761875\n",
       "1      1269\n",
       "Name: count, dtype: int64"
      ]
     },
     "execution_count": 10,
     "metadata": {},
     "output_type": "execute_result"
    }
   ],
   "source": [
    "train_df['sus'].value_counts()"
   ]
  },
  {
   "cell_type": "code",
   "execution_count": 11,
   "id": "d5324130",
   "metadata": {
    "execution": {
     "iopub.execute_input": "2023-12-26T15:45:48.583745Z",
     "iopub.status.busy": "2023-12-26T15:45:48.582651Z",
     "iopub.status.idle": "2023-12-26T15:45:49.381437Z",
     "shell.execute_reply": "2023-12-26T15:45:49.380156Z"
    },
    "papermill": {
     "duration": 0.815919,
     "end_time": "2023-12-26T15:45:49.384129",
     "exception": false,
     "start_time": "2023-12-26T15:45:48.568210",
     "status": "completed"
    },
    "tags": []
   },
   "outputs": [
    {
     "data": {
      "text/plain": [
       "<Axes: >"
      ]
     },
     "execution_count": 11,
     "metadata": {},
     "output_type": "execute_result"
    },
    {
     "data": {
      "image/png": "[encoded data removed]",
      "text/plain": [
       "<Figure size 640x480 with 1 Axes>"
      ]
     },
     "metadata": {},
     "output_type": "display_data"
    }
   ],
   "source": [
    "train_df.isnull().sum().plot(kind='bar')\n"
   ]
  },
  {
   "cell_type": "code",
   "execution_count": 12,
   "id": "c4a74dbd",
   "metadata": {
    "execution": {
     "iopub.execute_input": "2023-12-26T15:45:49.414997Z",
     "iopub.status.busy": "2023-12-26T15:45:49.414489Z",
     "iopub.status.idle": "2023-12-26T15:45:51.498812Z",
     "shell.execute_reply": "2023-12-26T15:45:51.497148Z"
    },
    "papermill": {
     "duration": 2.102996,
     "end_time": "2023-12-26T15:45:51.501445",
     "exception": false,
     "start_time": "2023-12-26T15:45:49.398449",
     "status": "completed"
    },
    "tags": []
   },
   "outputs": [
    {
     "name": "stdout",
     "output_type": "stream",
     "text": [
      "False    100.0\n",
      "Name: count, dtype: float64\n"
     ]
    }
   ],
   "source": [
    "train_df.duplicated().value_counts()\n",
    "\n",
    "print( ( train_df.duplicated().value_counts()/len(train_df) ) * 100)"
   ]
  },
  {
   "cell_type": "code",
   "execution_count": 13,
   "id": "80deafec",
   "metadata": {
    "execution": {
     "iopub.execute_input": "2023-12-26T15:45:51.531979Z",
     "iopub.status.busy": "2023-12-26T15:45:51.531557Z",
     "iopub.status.idle": "2023-12-26T15:45:52.726857Z",
     "shell.execute_reply": "2023-12-26T15:45:52.725650Z"
    },
    "papermill": {
     "duration": 1.21329,
     "end_time": "2023-12-26T15:45:52.729515",
     "exception": false,
     "start_time": "2023-12-26T15:45:51.516225",
     "status": "completed"
    },
    "tags": []
   },
   "outputs": [
    {
     "name": "stdout",
     "output_type": "stream",
     "text": [
      "<class 'pandas.core.frame.DataFrame'>\n",
      "RangeIndex: 763144 entries, 0 to 763143\n",
      "Data columns (total 16 columns):\n",
      " #   Column           Non-Null Count   Dtype  \n",
      "---  ------           --------------   -----  \n",
      " 0   timestamp        763144 non-null  float64\n",
      " 1   processId        763144 non-null  int64  \n",
      " 2   threadId         763144 non-null  int64  \n",
      " 3   parentProcessId  763144 non-null  int64  \n",
      " 4   userId           763144 non-null  int64  \n",
      " 5   mountNamespace   763144 non-null  int64  \n",
      " 6   processName      763144 non-null  object \n",
      " 7   hostName         763144 non-null  object \n",
      " 8   eventId          763144 non-null  int64  \n",
      " 9   eventName        763144 non-null  object \n",
      " 10  stackAddresses   763144 non-null  object \n",
      " 11  argsNum          763144 non-null  int64  \n",
      " 12  returnValue      763144 non-null  int64  \n",
      " 13  args             763144 non-null  object \n",
      " 14  sus              763144 non-null  int64  \n",
      " 15  evil             763144 non-null  int64  \n",
      "dtypes: float64(1), int64(10), object(5)\n",
      "memory usage: 93.2+ MB\n",
      "\n",
      "\n",
      "-----------------Unique Values per column--------------------------------\n",
      "\n",
      "\n"
     ]
    },
    {
     "data": {
      "text/plain": [
       "timestamp          762911\n",
       "processId             545\n",
       "threadId              588\n",
       "parentProcessId       205\n",
       "userId                  7\n",
       "mountNamespace          6\n",
       "processName            36\n",
       "hostName                8\n",
       "eventId                32\n",
       "eventName              32\n",
       "stackAddresses      97050\n",
       "argsNum                 6\n",
       "returnValue           524\n",
       "args               214720\n",
       "sus                     2\n",
       "evil                    1\n",
       "dtype: int64"
      ]
     },
     "execution_count": 13,
     "metadata": {},
     "output_type": "execute_result"
    }
   ],
   "source": [
    "train_df.info()\n",
    "\n",
    "print(\"\\n\\n-----------------Unique Values per column--------------------------------\\n\\n\")\n",
    "\n",
    "train_df.nunique()"
   ]
  },
  {
   "cell_type": "code",
   "execution_count": 14,
   "id": "8157b530",
   "metadata": {
    "execution": {
     "iopub.execute_input": "2023-12-26T15:45:52.760473Z",
     "iopub.status.busy": "2023-12-26T15:45:52.759979Z",
     "iopub.status.idle": "2023-12-26T15:45:52.795239Z",
     "shell.execute_reply": "2023-12-26T15:45:52.794017Z"
    },
    "papermill": {
     "duration": 0.054041,
     "end_time": "2023-12-26T15:45:52.798069",
     "exception": false,
     "start_time": "2023-12-26T15:45:52.744028",
     "status": "completed"
    },
    "tags": []
   },
   "outputs": [
    {
     "data": {
      "text/plain": [
       "Index(['timestamp', 'processId', 'threadId', 'parentProcessId', 'userId',\n",
       "       'mountNamespace', 'eventId', 'argsNum', 'returnValue', 'sus', 'evil'],\n",
       "      dtype='object')"
      ]
     },
     "execution_count": 14,
     "metadata": {},
     "output_type": "execute_result"
    }
   ],
   "source": [
    "numeric_columns = train_df.select_dtypes(include=['float64','int64']).columns\n",
    "numeric_columns"
   ]
  },
  {
   "cell_type": "code",
   "execution_count": 15,
   "id": "514aff4e",
   "metadata": {
    "execution": {
     "iopub.execute_input": "2023-12-26T15:45:52.829816Z",
     "iopub.status.busy": "2023-12-26T15:45:52.829235Z",
     "iopub.status.idle": "2023-12-26T15:45:52.885976Z",
     "shell.execute_reply": "2023-12-26T15:45:52.884467Z"
    },
    "papermill": {
     "duration": 0.075833,
     "end_time": "2023-12-26T15:45:52.888522",
     "exception": false,
     "start_time": "2023-12-26T15:45:52.812689",
     "status": "completed"
    },
    "tags": []
   },
   "outputs": [
    {
     "data": {
      "text/plain": [
       "Index(['processName', 'hostName', 'eventName', 'stackAddresses', 'args'], dtype='object')"
      ]
     },
     "execution_count": 15,
     "metadata": {},
     "output_type": "execute_result"
    }
   ],
   "source": [
    "categorical_columns = train_df.select_dtypes(include=['object']).columns\n",
    "categorical_columns "
   ]
  },
  {
   "cell_type": "raw",
   "id": "189737fd",
   "metadata": {
    "execution": {
     "iopub.execute_input": "2023-12-26T06:53:07.502325Z",
     "iopub.status.busy": "2023-12-26T06:53:07.500973Z",
     "iopub.status.idle": "2023-12-26T06:53:07.515824Z",
     "shell.execute_reply": "2023-12-26T06:53:07.514404Z",
     "shell.execute_reply.started": "2023-12-26T06:53:07.502285Z"
    },
    "papermill": {
     "duration": 0.01399,
     "end_time": "2023-12-26T15:45:52.917021",
     "exception": false,
     "start_time": "2023-12-26T15:45:52.903031",
     "status": "completed"
    },
    "tags": []
   },
   "source": [
    "def reduce_mem_usage(df, verbose=True):\n",
    "    numerics = ['int16', 'int32', 'int64', 'float16', 'float32', 'float64']\n",
    "\n",
    "    start_mem = df.memory_usage(deep=True).sum() / 1024**2\n",
    "\n",
    "    for col in df.columns:\n",
    "        col_type = df[col].dtypes\n",
    "\n",
    "        if col_type in numerics:\n",
    "            c_min = df[col].min()\n",
    "            c_max = df[col].max()\n",
    "\n",
    "            if str(col_type)[:3] == 'int':\n",
    "                if c_min > np.iinfo(np.int8).min and c_max < np.iinfo(np.int8).max:\n",
    "                    df[col] = df[col].astype(np.int8)\n",
    "                elif c_min > np.iinfo(np.int16).min and c_max < np.iinfo(np.int16).max:\n",
    "                    df[col] = df[col].astype(np.int16)\n",
    "                elif c_min > np.iinfo(np.int32).min and c_max < np.iinfo(np.int32).max:\n",
    "                    df[col] = df[col].astype(np.int32)\n",
    "                elif c_min > np.iinfo(np.int64).min and c_max < np.iinfo(np.int64).max:\n",
    "                    df[col] = df[col].astype(np.int64)\n",
    "            else:\n",
    "                if c_min > np.finfo(np.float32).min and c_max < np.finfo(np.float32).max:\n",
    "                    df[col] = df[col].astype(np.float32)\n",
    "                else:\n",
    "                    df[col] = df[col].astype(np.float64)\n",
    "\n",
    "    \n",
    "    end_mem = df.memory_usage(deep=True).sum() / 1024**2\n",
    "\n",
    "    if verbose:\n",
    "        print('Mem. usage decreased to {:5.2f} Mb ({:.1f}% reduction)'.format(end_mem, 100 * (start_mem - end_mem) / start_mem))\n",
    "    \n",
    "    return df"
   ]
  },
  {
   "cell_type": "code",
   "execution_count": 16,
   "id": "12cfb9b2",
   "metadata": {
    "execution": {
     "iopub.execute_input": "2023-12-26T15:45:52.949015Z",
     "iopub.status.busy": "2023-12-26T15:45:52.948561Z",
     "iopub.status.idle": "2023-12-26T15:45:53.457437Z",
     "shell.execute_reply": "2023-12-26T15:45:53.455949Z"
    },
    "papermill": {
     "duration": 0.52827,
     "end_time": "2023-12-26T15:45:53.459538",
     "exception": true,
     "start_time": "2023-12-26T15:45:52.931268",
     "status": "failed"
    },
    "tags": []
   },
   "outputs": [
    {
     "ename": "NameError",
     "evalue": "name 'reduce_mem_usage' is not defined",
     "output_type": "error",
     "traceback": [
      "\u001b[0;31m---------------------------------------------------------------------------\u001b[0m",
      "\u001b[0;31mNameError\u001b[0m                                 Traceback (most recent call last)",
      "Cell \u001b[0;32mIn[16], line 1\u001b[0m\n\u001b[0;32m----> 1\u001b[0m train_df \u001b[38;5;241m=\u001b[39m \u001b[43mreduce_mem_usage\u001b[49m(train_df)\n",
      "\u001b[0;31mNameError\u001b[0m: name 'reduce_mem_usage' is not defined"
     ]
    }
   ],
   "source": [
    "train_df = reduce_mem_usage(train_df)"
   ]
  },
  {
   "cell_type": "code",
   "execution_count": null,
   "id": "480d8251",
   "metadata": {
    "execution": {
     "iopub.status.busy": "2023-12-26T15:29:30.232986Z",
     "iopub.status.idle": "2023-12-26T15:29:30.233630Z",
     "shell.execute_reply": "2023-12-26T15:29:30.233459Z",
     "shell.execute_reply.started": "2023-12-26T15:29:30.233439Z"
    },
    "papermill": {
     "duration": null,
     "end_time": null,
     "exception": null,
     "start_time": null,
     "status": "pending"
    },
    "tags": []
   },
   "outputs": [],
   "source": [
    "X = train_df.drop([\"sus\",\"evil\"], axis=1)\n",
    "X = X[[\"processId\", \"parentProcessId\", \"userId\", \"mountNamespace\", \"eventId\", \"argsNum\", \"returnValue\"]]\n",
    "\n",
    "y =  train_df[\"sus\"]"
   ]
  },
  {
   "cell_type": "code",
   "execution_count": null,
   "id": "709e0553",
   "metadata": {
    "execution": {
     "iopub.status.busy": "2023-12-26T15:29:30.234818Z",
     "iopub.status.idle": "2023-12-26T15:29:30.235339Z",
     "shell.execute_reply": "2023-12-26T15:29:30.235101Z",
     "shell.execute_reply.started": "2023-12-26T15:29:30.235077Z"
    },
    "papermill": {
     "duration": null,
     "end_time": null,
     "exception": null,
     "start_time": null,
     "status": "pending"
    },
    "tags": []
   },
   "outputs": [],
   "source": [
    "X.head()"
   ]
  },
  {
   "cell_type": "code",
   "execution_count": null,
   "id": "3b82bd68",
   "metadata": {
    "execution": {
     "iopub.status.busy": "2023-12-26T15:29:30.236772Z",
     "iopub.status.idle": "2023-12-26T15:29:30.237776Z",
     "shell.execute_reply": "2023-12-26T15:29:30.237592Z",
     "shell.execute_reply.started": "2023-12-26T15:29:30.237572Z"
    },
    "papermill": {
     "duration": null,
     "end_time": null,
     "exception": null,
     "start_time": null,
     "status": "pending"
    },
    "tags": []
   },
   "outputs": [],
   "source": [
    "from sklearn.preprocessing import StandardScaler\n"
   ]
  },
  {
   "cell_type": "code",
   "execution_count": null,
   "id": "9dc040c1",
   "metadata": {
    "execution": {
     "iopub.status.busy": "2023-12-26T15:29:30.238670Z",
     "iopub.status.idle": "2023-12-26T15:29:30.239663Z",
     "shell.execute_reply": "2023-12-26T15:29:30.239479Z",
     "shell.execute_reply.started": "2023-12-26T15:29:30.239454Z"
    },
    "papermill": {
     "duration": null,
     "end_time": null,
     "exception": null,
     "start_time": null,
     "status": "pending"
    },
    "tags": []
   },
   "outputs": [],
   "source": [
    "ss = StandardScaler()\n",
    "X = ss.fit_transform(X)  \n",
    "\n",
    "X_train, X_test, y_train, y_test = train_test_split(X, y, test_size=0.3, random_state=3)"
   ]
  },
  {
   "cell_type": "code",
   "execution_count": null,
   "id": "76709da9",
   "metadata": {
    "execution": {
     "iopub.status.busy": "2023-12-26T15:29:30.240525Z",
     "iopub.status.idle": "2023-12-26T15:29:30.241429Z",
     "shell.execute_reply": "2023-12-26T15:29:30.241144Z",
     "shell.execute_reply.started": "2023-12-26T15:29:30.241116Z"
    },
    "papermill": {
     "duration": null,
     "end_time": null,
     "exception": null,
     "start_time": null,
     "status": "pending"
    },
    "tags": []
   },
   "outputs": [],
   "source": [
    "target_class = y.unique()"
   ]
  },
  {
   "cell_type": "code",
   "execution_count": null,
   "id": "b9ce6d08",
   "metadata": {
    "execution": {
     "iopub.status.busy": "2023-12-26T15:29:30.242611Z",
     "iopub.status.idle": "2023-12-26T15:29:30.243388Z",
     "shell.execute_reply": "2023-12-26T15:29:30.243169Z",
     "shell.execute_reply.started": "2023-12-26T15:29:30.243149Z"
    },
    "papermill": {
     "duration": null,
     "end_time": null,
     "exception": null,
     "start_time": null,
     "status": "pending"
    },
    "tags": []
   },
   "outputs": [],
   "source": [
    "DTC_Classifier = tree.DecisionTreeClassifier(criterion='entropy', random_state=0)\n",
    "DTC_Classifier.fit(X_train, y_train)"
   ]
  },
  {
   "cell_type": "code",
   "execution_count": null,
   "id": "5e6a7bd4",
   "metadata": {
    "execution": {
     "iopub.status.busy": "2023-12-26T15:29:30.244641Z",
     "iopub.status.idle": "2023-12-26T15:29:30.245502Z",
     "shell.execute_reply": "2023-12-26T15:29:30.245228Z",
     "shell.execute_reply.started": "2023-12-26T15:29:30.245202Z"
    },
    "papermill": {
     "duration": null,
     "end_time": null,
     "exception": null,
     "start_time": null,
     "status": "pending"
    },
    "tags": []
   },
   "outputs": [],
   "source": [
    "y_pred = DTC_Classifier.predict( X_test )\n",
    "\n",
    "print( classification_report( y_test , y_pred ) )\n",
    "\n",
    "matrix = confusion_matrix( y_test , y_pred )\n",
    "sns.heatmap( matrix )\n",
    "plt.show()\n",
    "\n",
    "sns.barplot( x = target_class ,y = recall_score( y_test , y_pred , average =  None) )\n",
    "plt.title( \"Class Wise Recall Score (Decision Tree)\")\n",
    "plt.show()\n",
    "\n",
    "sns.barplot( x = target_class ,y = precision_score( y_test , y_pred , average =  None) )\n",
    "plt.title( \"Class Wise Precision Score (Decision Tree)\")\n",
    "plt.show()\n"
   ]
  },
  {
   "cell_type": "code",
   "execution_count": null,
   "id": "18e00cd2",
   "metadata": {
    "execution": {
     "iopub.status.busy": "2023-12-26T15:29:30.247058Z",
     "iopub.status.idle": "2023-12-26T15:29:30.248005Z",
     "shell.execute_reply": "2023-12-26T15:29:30.247820Z",
     "shell.execute_reply.started": "2023-12-26T15:29:30.247799Z"
    },
    "papermill": {
     "duration": null,
     "end_time": null,
     "exception": null,
     "start_time": null,
     "status": "pending"
    },
    "tags": []
   },
   "outputs": [],
   "source": [
    "clf = SVC()\n",
    "clf.fit( X_train , y_train )"
   ]
  },
  {
   "cell_type": "code",
   "execution_count": null,
   "id": "33fc710f",
   "metadata": {
    "execution": {
     "iopub.status.busy": "2023-12-26T15:29:30.249101Z",
     "iopub.status.idle": "2023-12-26T15:29:30.249897Z",
     "shell.execute_reply": "2023-12-26T15:29:30.249704Z",
     "shell.execute_reply.started": "2023-12-26T15:29:30.249681Z"
    },
    "papermill": {
     "duration": null,
     "end_time": null,
     "exception": null,
     "start_time": null,
     "status": "pending"
    },
    "tags": []
   },
   "outputs": [],
   "source": [
    "y_pred = clf.predict( X_test )\n",
    "\n",
    "print( classification_report( y_test , y_pred ) )\n",
    "\n",
    "matrix = confusion_matrix( y_test , y_pred )\n",
    "sns.heatmap( matrix )\n",
    "plt.show()\n",
    "\n",
    "sns.barplot( x = target_class ,y = recall_score( y_test , y_pred , average =  None) )\n",
    "plt.title( \"Class Wise Recall Score (SVM)\")\n",
    "plt.show()\n",
    "\n",
    "sns.barplot( x = target_class ,y = precision_score( y_test , y_pred , average =  None) )\n",
    "plt.title( \"Class Wise Precision Score (SVM)\")\n",
    "plt.show()\n"
   ]
  },
  {
   "cell_type": "code",
   "execution_count": null,
   "id": "ad89560b",
   "metadata": {
    "papermill": {
     "duration": null,
     "end_time": null,
     "exception": null,
     "start_time": null,
     "status": "pending"
    },
    "tags": []
   },
   "outputs": [],
   "source": []
  }
 ],
 "metadata": {
  "kaggle": {
   "accelerator": "none",
   "dataSources": [
    {
     "datasetId": 1455978,
     "sourceId": 2477170,
     "sourceType": "datasetVersion"
    }
   ],
   "dockerImageVersionId": 30626,
   "isGpuEnabled": false,
   "isInternetEnabled": false,
   "language": "python",
   "sourceType": "notebook"
  },
  "kernelspec": {
   "display_name": "Python 3",
   "language": "python",
   "name": "python3"
  },
  "language_info": {
   "codemirror_mode": {
    "name": "ipython",
    "version": 3
   },
   "file_extension": ".py",
   "mimetype": "text/x-python",
   "name": "python",
   "nbconvert_exporter": "python",
   "pygments_lexer": "ipython3",
   "version": "3.10.12"
  },
  "papermill": {
   "default_parameters": {},
   "duration": 21.027348,
   "end_time": "2023-12-26T15:45:54.297285",
   "environment_variables": {},
   "exception": true,
   "input_path": "__notebook__.ipynb",
   "output_path": "__notebook__.ipynb",
   "parameters": {},
   "start_time": "2023-12-26T15:45:33.269937",
   "version": "2.4.0"
  }
 },
 "nbformat": 4,
 "nbformat_minor": 5
}
